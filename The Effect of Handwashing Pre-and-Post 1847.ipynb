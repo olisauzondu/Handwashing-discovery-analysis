{
 "cells": [
  {
   "cell_type": "markdown",
   "id": "c364d895",
   "metadata": {},
   "source": [
    "## The Effect of Handwashing Pre-Post 1847\n",
    "Analyzing death rate of babies in clinics in the mid-1800s.\n",
    "\n",
    "### Project Goal\n",
    "To investigate the number of deaths between 1841 to 1849 through visualization\n",
    "\n",
    "### Question to study\n",
    "How did death rate change after the implementation of handwashing before surgeries?\n",
    "\n",
    "### Solution Workflow\n",
    " - Identify question to answer\n",
    " - Get and clean data\n",
    " - Perform exploratory data analysis (EDA)\n",
    " - Share insights"
   ]
  },
  {
   "cell_type": "markdown",
   "id": "f7758468",
   "metadata": {},
   "source": [
    "#### Get and clean yearly data"
   ]
  },
  {
   "cell_type": "code",
   "execution_count": 2,
   "id": "a0af0641",
   "metadata": {},
   "outputs": [],
   "source": [
    "#import libraries\n",
    "import pandas as pd\n",
    "import numpy as np\n",
    "import matplotlib.pyplot as plt\n",
    "import seaborn as sns\n",
    "%matplotlib inline"
   ]
  },
  {
   "cell_type": "code",
   "execution_count": 4,
   "id": "21654e27",
   "metadata": {
    "scrolled": false
   },
   "outputs": [
    {
     "data": {
      "text/html": [
       "<div>\n",
       "<style scoped>\n",
       "    .dataframe tbody tr th:only-of-type {\n",
       "        vertical-align: middle;\n",
       "    }\n",
       "\n",
       "    .dataframe tbody tr th {\n",
       "        vertical-align: top;\n",
       "    }\n",
       "\n",
       "    .dataframe thead th {\n",
       "        text-align: right;\n",
       "    }\n",
       "</style>\n",
       "<table border=\"1\" class=\"dataframe\">\n",
       "  <thead>\n",
       "    <tr style=\"text-align: right;\">\n",
       "      <th></th>\n",
       "      <th>year</th>\n",
       "      <th>births</th>\n",
       "      <th>deaths</th>\n",
       "      <th>clinic</th>\n",
       "    </tr>\n",
       "  </thead>\n",
       "  <tbody>\n",
       "    <tr>\n",
       "      <th>0</th>\n",
       "      <td>1841</td>\n",
       "      <td>3036</td>\n",
       "      <td>237</td>\n",
       "      <td>clinic 1</td>\n",
       "    </tr>\n",
       "    <tr>\n",
       "      <th>1</th>\n",
       "      <td>1842</td>\n",
       "      <td>3287</td>\n",
       "      <td>518</td>\n",
       "      <td>clinic 1</td>\n",
       "    </tr>\n",
       "    <tr>\n",
       "      <th>2</th>\n",
       "      <td>1843</td>\n",
       "      <td>3060</td>\n",
       "      <td>274</td>\n",
       "      <td>clinic 1</td>\n",
       "    </tr>\n",
       "    <tr>\n",
       "      <th>3</th>\n",
       "      <td>1844</td>\n",
       "      <td>3157</td>\n",
       "      <td>260</td>\n",
       "      <td>clinic 1</td>\n",
       "    </tr>\n",
       "    <tr>\n",
       "      <th>4</th>\n",
       "      <td>1845</td>\n",
       "      <td>3492</td>\n",
       "      <td>241</td>\n",
       "      <td>clinic 1</td>\n",
       "    </tr>\n",
       "  </tbody>\n",
       "</table>\n",
       "</div>"
      ],
      "text/plain": [
       "   year  births  deaths    clinic\n",
       "0  1841    3036     237  clinic 1\n",
       "1  1842    3287     518  clinic 1\n",
       "2  1843    3060     274  clinic 1\n",
       "3  1844    3157     260  clinic 1\n",
       "4  1845    3492     241  clinic 1"
      ]
     },
     "execution_count": 4,
     "metadata": {},
     "output_type": "execute_result"
    }
   ],
   "source": [
    "#read yearly_deaths_by_clinic data\n",
    "yc_df = pd.read_csv('yearly_deaths_by_clinic.csv')\n",
    "yc_df.head()"
   ]
  },
  {
   "cell_type": "code",
   "execution_count": 6,
   "id": "56b516eb",
   "metadata": {},
   "outputs": [
    {
     "name": "stdout",
     "output_type": "stream",
     "text": [
      "<class 'pandas.core.frame.DataFrame'>\n",
      "RangeIndex: 12 entries, 0 to 11\n",
      "Data columns (total 4 columns):\n",
      " #   Column  Non-Null Count  Dtype \n",
      "---  ------  --------------  ----- \n",
      " 0   year    12 non-null     int64 \n",
      " 1   births  12 non-null     int64 \n",
      " 2   deaths  12 non-null     int64 \n",
      " 3   clinic  12 non-null     object\n",
      "dtypes: int64(3), object(1)\n",
      "memory usage: 512.0+ bytes\n"
     ]
    }
   ],
   "source": [
    "yc_df.info()"
   ]
  },
  {
   "cell_type": "code",
   "execution_count": 10,
   "id": "ccfd9fdc",
   "metadata": {},
   "outputs": [
    {
     "data": {
      "text/plain": [
       "clinic\n",
       "clinic 1    1989\n",
       "clinic 2     691\n",
       "Name: deaths, dtype: int64"
      ]
     },
     "execution_count": 10,
     "metadata": {},
     "output_type": "execute_result"
    }
   ],
   "source": [
    "#show the number of deaths in each clinic\n",
    "yc_df.groupby('clinic').deaths.sum()"
   ]
  },
  {
   "cell_type": "markdown",
   "id": "c99f06ec",
   "metadata": {},
   "source": [
    "We see that **2 clinics** were studied and **'clinic 1' had about 3x the deaths recorded in clinic 2**"
   ]
  },
  {
   "cell_type": "code",
   "execution_count": 15,
   "id": "ddf0983d",
   "metadata": {},
   "outputs": [
    {
     "data": {
      "text/html": [
       "<div>\n",
       "<style scoped>\n",
       "    .dataframe tbody tr th:only-of-type {\n",
       "        vertical-align: middle;\n",
       "    }\n",
       "\n",
       "    .dataframe tbody tr th {\n",
       "        vertical-align: top;\n",
       "    }\n",
       "\n",
       "    .dataframe thead th {\n",
       "        text-align: right;\n",
       "    }\n",
       "</style>\n",
       "<table border=\"1\" class=\"dataframe\">\n",
       "  <thead>\n",
       "    <tr style=\"text-align: right;\">\n",
       "      <th></th>\n",
       "      <th>year</th>\n",
       "      <th>births</th>\n",
       "      <th>deaths</th>\n",
       "      <th>clinic</th>\n",
       "      <th>prop_death</th>\n",
       "    </tr>\n",
       "  </thead>\n",
       "  <tbody>\n",
       "    <tr>\n",
       "      <th>0</th>\n",
       "      <td>1841</td>\n",
       "      <td>3036</td>\n",
       "      <td>237</td>\n",
       "      <td>clinic 1</td>\n",
       "      <td>0.0781</td>\n",
       "    </tr>\n",
       "    <tr>\n",
       "      <th>1</th>\n",
       "      <td>1842</td>\n",
       "      <td>3287</td>\n",
       "      <td>518</td>\n",
       "      <td>clinic 1</td>\n",
       "      <td>0.1576</td>\n",
       "    </tr>\n",
       "    <tr>\n",
       "      <th>2</th>\n",
       "      <td>1843</td>\n",
       "      <td>3060</td>\n",
       "      <td>274</td>\n",
       "      <td>clinic 1</td>\n",
       "      <td>0.0895</td>\n",
       "    </tr>\n",
       "    <tr>\n",
       "      <th>3</th>\n",
       "      <td>1844</td>\n",
       "      <td>3157</td>\n",
       "      <td>260</td>\n",
       "      <td>clinic 1</td>\n",
       "      <td>0.0824</td>\n",
       "    </tr>\n",
       "    <tr>\n",
       "      <th>4</th>\n",
       "      <td>1845</td>\n",
       "      <td>3492</td>\n",
       "      <td>241</td>\n",
       "      <td>clinic 1</td>\n",
       "      <td>0.0690</td>\n",
       "    </tr>\n",
       "  </tbody>\n",
       "</table>\n",
       "</div>"
      ],
      "text/plain": [
       "   year  births  deaths    clinic  prop_death\n",
       "0  1841    3036     237  clinic 1      0.0781\n",
       "1  1842    3287     518  clinic 1      0.1576\n",
       "2  1843    3060     274  clinic 1      0.0895\n",
       "3  1844    3157     260  clinic 1      0.0824\n",
       "4  1845    3492     241  clinic 1      0.0690"
      ]
     },
     "execution_count": 15,
     "metadata": {},
     "output_type": "execute_result"
    }
   ],
   "source": [
    "#create a new column showing the death proportions\n",
    "yc_df['prop_death']=round(yc_df.deaths / yc_df.births,4)\n",
    "yc_df.head()"
   ]
  },
  {
   "cell_type": "markdown",
   "id": "5f5fe233",
   "metadata": {},
   "source": [
    "#### Yearly data EDA"
   ]
  },
  {
   "cell_type": "code",
   "execution_count": 16,
   "id": "ca5ebbd3",
   "metadata": {},
   "outputs": [],
   "source": [
    "#filter the two clnics into separate dataframes\n",
    "clinic1 = yc_df.loc[yc_df.clinic=='clinic 1']\n",
    "clinic2 = yc_df.loc[yc_df.clinic=='clinic 2']"
   ]
  },
  {
   "cell_type": "code",
   "execution_count": 18,
   "id": "58ab5dde",
   "metadata": {},
   "outputs": [
    {
     "data": {
      "text/plain": [
       "Text(0, 0.5, 'Deaths')"
      ]
     },
     "execution_count": 18,
     "metadata": {},
     "output_type": "execute_result"
    },
    {
     "data": {
      "image/png": "[encoded data removed]",
      "text/plain": [
       "<Figure size 720x288 with 1 Axes>"
      ]
     },
     "metadata": {
      "needs_background": "light"
     },
     "output_type": "display_data"
    }
   ],
   "source": [
    "#plot the number of deaths each year for each clinic\n",
    "fig,ax = plt.subplots(figsize = (10,4))\n",
    "plt.bar(clinic1.year, clinic1.deaths, width= 0.5, color= \"black\")\n",
    "plt.title(\"Clinic 1: Deaths per Year\", fontsize=16)\n",
    "plt.xlabel(\"Year\", fontsize=12)\n",
    "plt.ylabel(\"Deaths\", fontsize=12)"
   ]
  },
  {
   "cell_type": "code",
   "execution_count": 23,
   "id": "3ec4e010",
   "metadata": {},
   "outputs": [
    {
     "data": {
      "text/plain": [
       "Text(0, 0.5, 'Deaths')"
      ]
     },
     "execution_count": 23,
     "metadata": {},
     "output_type": "execute_result"
    },
    {
     "data": {
      "image/png": "[encoded data removed]",
      "text/plain": [
       "<Figure size 720x288 with 1 Axes>"
      ]
     },
     "metadata": {
      "needs_background": "light"
     },
     "output_type": "display_data"
    }
   ],
   "source": [
    "fig,ax = plt.subplots(figsize = (10,4))\n",
    "plt.bar(clinic2.year, clinic2.deaths, width= 0.5, color= \"navy\")\n",
    "plt.title(\"Clinic 2: Deaths per Year\", fontsize=16)\n",
    "plt.xlabel(\"Year\", fontsize=12)\n",
    "plt.ylabel(\"Deaths\", fontsize=12)"
   ]
  },
  {
   "cell_type": "markdown",
   "id": "2323d986",
   "metadata": {},
   "source": [
    "**1842** was a tough year with **the most deaths recorded** for clinic 1 and clinic 2,**~500 and ~200 deaths** respectively"
   ]
  },
  {
   "cell_type": "code",
   "execution_count": 29,
   "id": "e77baa94",
   "metadata": {},
   "outputs": [
    {
     "data": {
      "text/plain": [
       "Text(0, 0.5, 'Death proportion')"
      ]
     },
     "execution_count": 29,
     "metadata": {},
     "output_type": "execute_result"
    },
    {
     "data": {
      "image/png": "[encoded data removed]",
      "text/plain": [
       "<Figure size 864x432 with 1 Axes>"
      ]
     },
     "metadata": {
      "needs_background": "light"
     },
     "output_type": "display_data"
    }
   ],
   "source": [
    "#let us compare the proportion of deaths for both clininc 1 and 2\n",
    "fig,ax=plt.subplots(figsize=(12,6))\n",
    "clinic1.plot(x='year',y='prop_death',kind='line',color='orange',label='clinic 1',ax=ax)\n",
    "clinic2.plot(x='year',y='prop_death',kind='line',color='blue',label='clinic 2',ax=ax)\n",
    "plt.xlabel('Year')\n",
    "plt.ylabel('Death proportion')"
   ]
  },
  {
   "cell_type": "markdown",
   "id": "63469249",
   "metadata": {},
   "source": [
    "**Clinic 1 had a death proportion of about an average of 3x more deaths than clinic 2 between 1841 and 1846**"
   ]
  },
  {
   "cell_type": "markdown",
   "id": "4b769bdf",
   "metadata": {},
   "source": [
    "#### Get and clean monthly data"
   ]
  },
  {
   "cell_type": "code",
   "execution_count": 30,
   "id": "782182d2",
   "metadata": {},
   "outputs": [
    {
     "data": {
      "text/html": [
       "<div>\n",
       "<style scoped>\n",
       "    .dataframe tbody tr th:only-of-type {\n",
       "        vertical-align: middle;\n",
       "    }\n",
       "\n",
       "    .dataframe tbody tr th {\n",
       "        vertical-align: top;\n",
       "    }\n",
       "\n",
       "    .dataframe thead th {\n",
       "        text-align: right;\n",
       "    }\n",
       "</style>\n",
       "<table border=\"1\" class=\"dataframe\">\n",
       "  <thead>\n",
       "    <tr style=\"text-align: right;\">\n",
       "      <th></th>\n",
       "      <th>date</th>\n",
       "      <th>births</th>\n",
       "      <th>deaths</th>\n",
       "    </tr>\n",
       "  </thead>\n",
       "  <tbody>\n",
       "    <tr>\n",
       "      <th>0</th>\n",
       "      <td>1841-01-01</td>\n",
       "      <td>254</td>\n",
       "      <td>37</td>\n",
       "    </tr>\n",
       "    <tr>\n",
       "      <th>1</th>\n",
       "      <td>1841-02-01</td>\n",
       "      <td>239</td>\n",
       "      <td>18</td>\n",
       "    </tr>\n",
       "    <tr>\n",
       "      <th>2</th>\n",
       "      <td>1841-03-01</td>\n",
       "      <td>277</td>\n",
       "      <td>12</td>\n",
       "    </tr>\n",
       "    <tr>\n",
       "      <th>3</th>\n",
       "      <td>1841-04-01</td>\n",
       "      <td>255</td>\n",
       "      <td>4</td>\n",
       "    </tr>\n",
       "    <tr>\n",
       "      <th>4</th>\n",
       "      <td>1841-05-01</td>\n",
       "      <td>255</td>\n",
       "      <td>2</td>\n",
       "    </tr>\n",
       "  </tbody>\n",
       "</table>\n",
       "</div>"
      ],
      "text/plain": [
       "         date  births  deaths\n",
       "0  1841-01-01     254      37\n",
       "1  1841-02-01     239      18\n",
       "2  1841-03-01     277      12\n",
       "3  1841-04-01     255       4\n",
       "4  1841-05-01     255       2"
      ]
     },
     "execution_count": 30,
     "metadata": {},
     "output_type": "execute_result"
    }
   ],
   "source": [
    "#import data and read\n",
    "m_df = pd.read_csv('monthly_deaths.csv')\n",
    "m_df.head()"
   ]
  },
  {
   "cell_type": "code",
   "execution_count": 31,
   "id": "4640bd42",
   "metadata": {
    "scrolled": true
   },
   "outputs": [
    {
     "name": "stdout",
     "output_type": "stream",
     "text": [
      "<class 'pandas.core.frame.DataFrame'>\n",
      "RangeIndex: 98 entries, 0 to 97\n",
      "Data columns (total 3 columns):\n",
      " #   Column  Non-Null Count  Dtype \n",
      "---  ------  --------------  ----- \n",
      " 0   date    98 non-null     object\n",
      " 1   births  98 non-null     int64 \n",
      " 2   deaths  98 non-null     int64 \n",
      "dtypes: int64(2), object(1)\n",
      "memory usage: 2.4+ KB\n"
     ]
    }
   ],
   "source": [
    "m_df.info()"
   ]
  },
  {
   "cell_type": "code",
   "execution_count": 55,
   "id": "2a6fbb13",
   "metadata": {},
   "outputs": [],
   "source": [
    "#create proportion of deaths column\n",
    "m_df['prop_death'] = round(m_df.deaths / m_df.births,4)"
   ]
  },
  {
   "cell_type": "code",
   "execution_count": 56,
   "id": "ab524205",
   "metadata": {},
   "outputs": [],
   "source": [
    "#convert date column to datetime data type\n",
    "m_df.date = pd.to_datetime(m_df['date'])"
   ]
  },
  {
   "cell_type": "code",
   "execution_count": 57,
   "id": "3a5a614c",
   "metadata": {},
   "outputs": [],
   "source": [
    "#designate the date when handwashing began --> 1847-06-01\n",
    "hw_start = '1847-06-01'\n",
    "\n",
    "#split datafraem into before and after handwashing start\n",
    "bhw_df = m_df.loc[m_df.date < hw_start]\n",
    "ahw_df = m_df.loc[m_df.date >= hw_start]"
   ]
  },
  {
   "cell_type": "markdown",
   "id": "2acc5e82",
   "metadata": {},
   "source": [
    "#### EDA"
   ]
  },
  {
   "cell_type": "code",
   "execution_count": 60,
   "id": "09c3936e",
   "metadata": {},
   "outputs": [
    {
     "data": {
      "text/plain": [
       "Text(0, 0.5, 'Death proportion')"
      ]
     },
     "execution_count": 60,
     "metadata": {},
     "output_type": "execute_result"
    },
    {
     "data": {
      "image/png": "[encoded data removed]",
      "text/plain": [
       "<Figure size 864x432 with 1 Axes>"
      ]
     },
     "metadata": {
      "needs_background": "light"
     },
     "output_type": "display_data"
    }
   ],
   "source": [
    "#plot the death proportions for the months before and after handwashing\n",
    "fig,ax = plt.subplots(figsize=(12,6))\n",
    "bhw_df.plot(x='date',y='prop_death',color='red',label='Before handwashing', ax=ax)\n",
    "ahw_df.plot(x='date',y='prop_death',color='green',label='After handwashing', ax=ax)\n",
    "plt.xlabel('Date')\n",
    "plt.ylabel('Death proportion')"
   ]
  },
  {
   "cell_type": "code",
   "execution_count": 77,
   "id": "e379259d",
   "metadata": {},
   "outputs": [
    {
     "data": {
      "text/plain": [
       "-0.084"
      ]
     },
     "execution_count": 77,
     "metadata": {},
     "output_type": "execute_result"
    }
   ],
   "source": [
    "#find the drop in death prooportions\n",
    "bhw_mean = bhw_df.prop_death.mean()\n",
    "ahw_mean = ahw_df.prop_death.mean()\n",
    "delta_mean = round(ahw_mean-bhw_mean,4)\n",
    "delta_mean"
   ]
  },
  {
   "cell_type": "markdown",
   "id": "4a0a1304",
   "metadata": {},
   "source": [
    "There is a clear differnce between deaths before and after handwashing was implemented in clinics. It shows that there was about **a significant 8% drop in the number of deaths after handwashing was implemented**"
   ]
  },
  {
   "cell_type": "markdown",
   "id": "4cd2cb36",
   "metadata": {},
   "source": [
    "### Insights\n",
    " - The yearly dataset covered 1841 to 1846 which recorded high numbers of deaths in 1842 and 1846 in both clinics 1 and 2\n",
    " - Clinic 1 had about 3x more deaths on average than clinic 2\n",
    " - After handwashing was implemented, there was a significant 8% drop in the average death proportions\n",
    " \n",
    "A simple handwashing before surgeries saved a lot of babies being born"
   ]
  }
 ],
 "metadata": {
  "kernelspec": {
   "display_name": "Python 3 (ipykernel)",
   "language": "python",
   "name": "python3"
  },
  "language_info": {
   "codemirror_mode": {
    "name": "ipython",
    "version": 3
   },
   "file_extension": ".py",
   "mimetype": "text/x-python",
   "name": "python",
   "nbconvert_exporter": "python",
   "pygments_lexer": "ipython3",
   "version": "3.10.4"
  }
 },
 "nbformat": 4,
 "nbformat_minor": 5
}
